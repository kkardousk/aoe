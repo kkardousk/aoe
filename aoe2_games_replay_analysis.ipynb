{
 "cells": [
  {
   "attachments": {},
   "cell_type": "markdown",
   "metadata": {},
   "source": [
    "# Age of Empires 2 game records analysis"
   ]
  },
  {
   "attachments": {},
   "cell_type": "markdown",
   "metadata": {},
   "source": [
    "Importing modules needed"
   ]
  },
  {
   "cell_type": "code",
   "execution_count": 1,
   "metadata": {},
   "outputs": [],
   "source": [
    "import sys\n",
    "import glob, os\n",
    "from datetime import datetime as dt\n",
    "from mgz import header, body\n",
    "from mgz.summary import Summary\n",
    "import json\n",
    "from mgz.model import parse_match, serialize\n",
    "import json\n",
    "import re\n",
    "import pandas as pd\n",
    "from functools import reduce\n",
    "from collections import Counter\n",
    "import numpy as np\n",
    "import matplotlib.pyplot as plt\n",
    "from matplotlib import rcParams\n",
    "import seaborn \n",
    "import math\n",
    "\n",
    "os.chdir(\"C:\\\\Users\\\\kardo\\\\Games\\\\Age of Empires 2 DE\\\\76561198861901568\\\\savegame\")"
   ]
  },
  {
   "attachments": {},
   "cell_type": "markdown",
   "metadata": {},
   "source": [
    "Importing files to be parsed, those are personal game replay files (381 of them at the time of this writing) and involve Multiplayer (online) 1 versus 1 games"
   ]
  },
  {
   "cell_type": "code",
   "execution_count": 2,
   "metadata": {},
   "outputs": [
    {
     "data": {
      "text/plain": [
       "['MP Replay v101.102.8319.0 #(73855) @2022.12.08 104819 (2).aoe2record',\n",
       " 'MP Replay v101.102.8319.0 #(73855) @2022.12.08 114046 (1).aoe2record',\n",
       " 'MP Replay v101.102.8319.0 #(73855) @2022.12.08 120821 (1).aoe2record',\n",
       " 'MP Replay v101.102.8319.0 #(73855) @2022.12.08 124146 (2).aoe2record',\n",
       " 'MP Replay v101.102.8319.0 #(73855) @2022.12.08 125748 (2).aoe2record']"
      ]
     },
     "execution_count": 2,
     "metadata": {},
     "output_type": "execute_result"
    }
   ],
   "source": [
    "list_of_files = glob.glob(\"*.aoe2record\")\n",
    "len(list_of_files)\n",
    "list_of_files[-5:] # showing last five records"
   ]
  },
  {
   "attachments": {},
   "cell_type": "markdown",
   "metadata": {},
   "source": [
    "So here there are a varierty of headers (from json) within which things ranging from 'research' (a given tech was researched), to 'move' - in this case included in the 'actions' key/header. \n",
    "The main focus in this next section will be on focusing on 'follow' keystroke which involves a scout (to which both players have access at the very start of the game) to lure deer into the Town Center/starting base for additional 'free' source of food."
   ]
  },
  {
   "cell_type": "code",
   "execution_count": 3,
   "metadata": {},
   "outputs": [],
   "source": [
    "matches = []\n",
    "json_obj = []\n",
    "\n",
    "for file in list_of_files:\n",
    "    try: \n",
    "        with open(str(file), 'rb') as rec:\n",
    "            matches.append(json.dumps(serialize(parse_match(rec)))) \n",
    "    except Exception:\n",
    "                pass\n",
    "\n",
    "for dumps in matches:\n",
    "    json_obj.append(json.loads(dumps))\n",
    "\n",
    "len(json_obj)\n",
    "[len(x) for x in matches]\n",
    "\n",
    "\n",
    "# player actions \n",
    "def actions_taken(json_obj):\n",
    "\tactions_taken = json_obj['actions']\n",
    "\tstr_conv = str(actions_taken)\n",
    "\tdict_conv = eval(str_conv)\n",
    "\treturn dict_conv\n",
    "\n",
    "# players identification\n",
    "def players_(json_obj):\n",
    "\tplayers = json_obj['players']\n",
    "\tstr_conv = str(players)\n",
    "\tdict_conv = eval(str_conv)\n",
    "\treturn dict_conv\n",
    "\n",
    "actions = []\n",
    "for game_files in json_obj:\n",
    "    actions.append(actions_taken(game_files))\n",
    "\n",
    "players = []\n",
    "for game_files in json_obj:\n",
    "    players.append(players_(game_files))\n",
    "\n",
    "# generating multiple dataframes from json to get cleaner values and later run analysis\n",
    "def from_json_to_df(x):\n",
    "\n",
    "    df = []\n",
    "    for games_played in x:\n",
    "        df.append(pd.json_normalize(games_played)) \n",
    "    return df\n",
    "\n",
    "dfs_with_player_mappings = []\n",
    "\n",
    "for left, right in zip(from_json_to_df(actions), from_json_to_df(players)):\n",
    "      dfs_with_player_mappings.append( pd.merge(left, right, how = 'left', left_on = 'player', right_on = 'number') )\n",
    "\n",
    "\n",
    "deer_pushed_cnt = []\n",
    "won_game_cnt = []\n",
    "eapm = []\n",
    "wessex_civ = []\n",
    "\n",
    "def counting_intentional_deer_pushes(x):\n",
    "\n",
    "    ttl_deer_pushed = games['payload.target_id'].loc[( games['type'] == 'FOLLOW' )\\\n",
    "             & ( games['name'] == 'AofWessex' )].groupby(games['payload.target_id']).count()\n",
    "    mask = ttl_deer_pushed > 3        \n",
    "    return len(ttl_deer_pushed.loc[mask])\n",
    "\n",
    "for games in dfs_with_player_mappings:\n",
    "\n",
    "    try:\n",
    "        deer_pushed_cnt.append(counting_intentional_deer_pushes(games))\n",
    "    except Exception:\n",
    "                pass\n",
    "\n",
    "    won_game_cnt.append(games['winner'].loc[( games['winner'] == True )\\\n",
    "         & ( games['name'] == 'AofWessex' )].drop_duplicates().count())\n",
    "\n",
    "    eapm.append(games['eapm'].loc[( games['name'] == 'AofWessex' )].drop_duplicates().min())\n",
    "    \n",
    "    wessex_civ.append(games['civilization'].loc[( games['name'] == 'AofWessex' )].drop_duplicates().min())\n",
    "    \n",
    "\n",
    "overall_stats_df = pd.DataFrame(list(zip(deer_pushed_cnt, eapm, wessex_civ, won_game_cnt)),\\\n",
    "    columns = ['deer_pushed_ttl', 'eapm', 'civ', 'won_game'])\n"
   ]
  },
  {
   "cell_type": "code",
   "execution_count": 4,
   "metadata": {},
   "outputs": [
    {
     "data": {
      "text/html": [
       "<div>\n",
       "<style scoped>\n",
       "    .dataframe tbody tr th:only-of-type {\n",
       "        vertical-align: middle;\n",
       "    }\n",
       "\n",
       "    .dataframe tbody tr th {\n",
       "        vertical-align: top;\n",
       "    }\n",
       "\n",
       "    .dataframe thead th {\n",
       "        text-align: right;\n",
       "    }\n",
       "</style>\n",
       "<table border=\"1\" class=\"dataframe\">\n",
       "  <thead>\n",
       "    <tr style=\"text-align: right;\">\n",
       "      <th></th>\n",
       "      <th>deer_pushed_ttl</th>\n",
       "      <th>eapm</th>\n",
       "      <th>civ</th>\n",
       "      <th>won_game</th>\n",
       "    </tr>\n",
       "  </thead>\n",
       "  <tbody>\n",
       "    <tr>\n",
       "      <th>0</th>\n",
       "      <td>0</td>\n",
       "      <td>42.0</td>\n",
       "      <td>Incas</td>\n",
       "      <td>0</td>\n",
       "    </tr>\n",
       "    <tr>\n",
       "      <th>1</th>\n",
       "      <td>0</td>\n",
       "      <td>45.0</td>\n",
       "      <td>Incas</td>\n",
       "      <td>0</td>\n",
       "    </tr>\n",
       "    <tr>\n",
       "      <th>2</th>\n",
       "      <td>0</td>\n",
       "      <td>45.0</td>\n",
       "      <td>Burmese</td>\n",
       "      <td>1</td>\n",
       "    </tr>\n",
       "    <tr>\n",
       "      <th>3</th>\n",
       "      <td>0</td>\n",
       "      <td>55.0</td>\n",
       "      <td>Burmese</td>\n",
       "      <td>1</td>\n",
       "    </tr>\n",
       "    <tr>\n",
       "      <th>4</th>\n",
       "      <td>0</td>\n",
       "      <td>46.0</td>\n",
       "      <td>Burmese</td>\n",
       "      <td>0</td>\n",
       "    </tr>\n",
       "    <tr>\n",
       "      <th>...</th>\n",
       "      <td>...</td>\n",
       "      <td>...</td>\n",
       "      <td>...</td>\n",
       "      <td>...</td>\n",
       "    </tr>\n",
       "    <tr>\n",
       "      <th>360</th>\n",
       "      <td>0</td>\n",
       "      <td>41.0</td>\n",
       "      <td>Vikings</td>\n",
       "      <td>0</td>\n",
       "    </tr>\n",
       "    <tr>\n",
       "      <th>361</th>\n",
       "      <td>1</td>\n",
       "      <td>50.0</td>\n",
       "      <td>Portuguese</td>\n",
       "      <td>0</td>\n",
       "    </tr>\n",
       "    <tr>\n",
       "      <th>362</th>\n",
       "      <td>1</td>\n",
       "      <td>53.0</td>\n",
       "      <td>Britons</td>\n",
       "      <td>1</td>\n",
       "    </tr>\n",
       "    <tr>\n",
       "      <th>363</th>\n",
       "      <td>0</td>\n",
       "      <td>63.0</td>\n",
       "      <td>Burmese</td>\n",
       "      <td>1</td>\n",
       "    </tr>\n",
       "    <tr>\n",
       "      <th>364</th>\n",
       "      <td>1</td>\n",
       "      <td>60.0</td>\n",
       "      <td>Britons</td>\n",
       "      <td>1</td>\n",
       "    </tr>\n",
       "  </tbody>\n",
       "</table>\n",
       "<p>365 rows × 4 columns</p>\n",
       "</div>"
      ],
      "text/plain": [
       "     deer_pushed_ttl  eapm         civ  won_game\n",
       "0                  0  42.0       Incas         0\n",
       "1                  0  45.0       Incas         0\n",
       "2                  0  45.0     Burmese         1\n",
       "3                  0  55.0     Burmese         1\n",
       "4                  0  46.0     Burmese         0\n",
       "..               ...   ...         ...       ...\n",
       "360                0  41.0     Vikings         0\n",
       "361                1  50.0  Portuguese         0\n",
       "362                1  53.0     Britons         1\n",
       "363                0  63.0     Burmese         1\n",
       "364                1  60.0     Britons         1\n",
       "\n",
       "[365 rows x 4 columns]"
      ]
     },
     "execution_count": 4,
     "metadata": {},
     "output_type": "execute_result"
    }
   ],
   "source": [
    "overall_stats_df"
   ]
  },
  {
   "attachments": {},
   "cell_type": "markdown",
   "metadata": {},
   "source": [
    "first filtering to games with apm >= 20 as it will filter out games where replay files failed to be parsed out,  due to minor/major game patches (usually older files will have this issue) this also filters out very short game (early resign from myself or from opponenent because of things such as not being a  fan of a given map generated, etc.)"
   ]
  },
  {
   "cell_type": "code",
   "execution_count": null,
   "metadata": {},
   "outputs": [],
   "source": [
    "\n",
    "overall_stats_df_filtered = overall_stats_df[overall_stats_df['eapm'] >= 20]\n"
   ]
  },
  {
   "attachments": {},
   "cell_type": "markdown",
   "metadata": {},
   "source": [
    "Does eapm contribute to higher win chances ?"
   ]
  },
  {
   "cell_type": "code",
   "execution_count": 22,
   "metadata": {},
   "outputs": [
    {
     "data": {
      "image/png": "[encoded data removed]",
      "text/plain": [
       "<Figure size 1000x600 with 1 Axes>"
      ]
     },
     "metadata": {},
     "output_type": "display_data"
    }
   ],
   "source": [
    "fig, ax = plt.subplots(dpi = 100, figsize = (10, 6))\n",
    "plt.style.use('ggplot')\n",
    "with seaborn.plotting_context(rc={\"font.size\":20,\"axes.titlesize\":20,\"axes.labelsize\":20}):\n",
    "    seaborn.boxplot(x = 'won_game', y = 'eapm', data = overall_stats_df_filtered)\\\n",
    "        .set_title('Effective APM per game outcome')        \n"
   ]
  },
  {
   "cell_type": "code",
   "execution_count": 17,
   "metadata": {},
   "outputs": [
    {
     "data": {
      "image/png": "[encoded data removed]",
      "text/plain": [
       "<Figure size 1000x400 with 1 Axes>"
      ]
     },
     "metadata": {},
     "output_type": "display_data"
    }
   ],
   "source": [
    "fig, ax = plt.subplots(dpi = 100, figsize = (10, 4))\n",
    "plt.style.use('ggplot')\n",
    "with seaborn.plotting_context(rc={\"font.size\":20,\"axes.titlesize\":20,\"axes.labelsize\":20}):\n",
    "    seaborn.boxplot(x = 'won_game', y = 'deer_pushed_ttl', data = overall_stats_df_filtered)\\\n",
    "        .set_title('Deer Pushed per game outcome')        \n"
   ]
  }
 ],
 "metadata": {
  "kernelspec": {
   "display_name": "Python 3",
   "language": "python",
   "name": "python3"
  },
  "language_info": {
   "codemirror_mode": {
    "name": "ipython",
    "version": 3
   },
   "file_extension": ".py",
   "mimetype": "text/x-python",
   "name": "python",
   "nbconvert_exporter": "python",
   "pygments_lexer": "ipython3",
   "version": "3.11.0"
  },
  "orig_nbformat": 4,
  "vscode": {
   "interpreter": {
    "hash": "ce23467ac9f756604763af77037cb34e66e5c5ec4766e96141576f817cb96bd8"
   }
  }
 },
 "nbformat": 4,
 "nbformat_minor": 2
}
