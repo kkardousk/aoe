{
 "cells": [
  {
   "cell_type": "code",
   "execution_count": 1,
   "metadata": {},
   "outputs": [],
   "source": [
    "import sys\n",
    "import glob, os\n",
    "from datetime import datetime as dt\n",
    "from mgz import header, body\n",
    "from mgz.summary import Summary\n",
    "import json\n",
    "from mgz.model import parse_match, serialize\n",
    "import json\n",
    "import re\n",
    "import pandas as pd\n",
    "from functools import reduce\n",
    "from collections import Counter\n",
    "import numpy as np\n",
    "import matplotlib.pyplot as plt\n",
    "from matplotlib import rcParams\n",
    "import seaborn \n",
    "import math\n",
    "\n",
    "os.chdir(\"C:\\\\Users\\\\kardo\\\\Games\\\\Age of Empires 2 DE\\\\76561198861901568\\\\savegame\")\n"
   ]
  },
  {
   "cell_type": "code",
   "execution_count": 3,
   "metadata": {},
   "outputs": [],
   "source": [
    "list_of_files = glob.glob(\"*.aoe2record\")"
   ]
  },
  {
   "cell_type": "code",
   "execution_count": 8,
   "metadata": {},
   "outputs": [
    {
     "name": "stdout",
     "output_type": "stream",
     "text": [
      "Stored 'a' (int)\n"
     ]
    }
   ],
   "source": [
    "list_of_files"
   ]
  }
 ],
 "metadata": {
  "kernelspec": {
   "display_name": "Python 3",
   "language": "python",
   "name": "python3"
  },
  "language_info": {
   "codemirror_mode": {
    "name": "ipython",
    "version": 3
   },
   "file_extension": ".py",
   "mimetype": "text/x-python",
   "name": "python",
   "nbconvert_exporter": "python",
   "pygments_lexer": "ipython3",
   "version": "3.11.0"
  },
  "orig_nbformat": 4,
  "vscode": {
   "interpreter": {
    "hash": "ce23467ac9f756604763af77037cb34e66e5c5ec4766e96141576f817cb96bd8"
   }
  }
 },
 "nbformat": 4,
 "nbformat_minor": 2
}
